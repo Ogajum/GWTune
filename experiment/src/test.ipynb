{
 "cells": [
  {
   "cell_type": "code",
   "execution_count": 1,
   "metadata": {},
   "outputs": [],
   "source": [
    "import numpy as np\n",
    "import pandas as pd\n",
    "import matplotlib.pyplot as plt"
   ]
  },
  {
   "cell_type": "code",
   "execution_count": 2,
   "metadata": {},
   "outputs": [
    {
     "data": {
      "text/plain": [
       "<matplotlib.colorbar.Colorbar at 0x7fe986ca7850>"
      ]
     },
     "execution_count": 2,
     "metadata": {},
     "output_type": "execute_result"
    },
    {
     "data": {
      "image/png": "[encoded data removed]",
      "text/plain": [
       "<Figure size 640x480 with 2 Axes>"
      ]
     },
     "metadata": {},
     "output_type": "display_data"
    }
   ],
   "source": [
    "np.random.seed(42)\n",
    "\n",
    "ot_shape = 10\n",
    "ii = np.random.rand(ot_shape, ot_shape)\n",
    "\n",
    "plt.imshow(ii, cmap = 'Blues')\n",
    "plt.colorbar()"
   ]
  },
  {
   "cell_type": "code",
   "execution_count": 3,
   "metadata": {},
   "outputs": [
    {
     "name": "stdout",
     "output_type": "stream",
     "text": [
      "[0.96958463 0.96990985 0.93949894 0.94888554 0.96563203 0.92187424\n",
      " 0.77127035 0.86617615 0.88721274 0.98688694]\n",
      "[0.37454012 0.96990985 0.29214465 0.94888554 0.25877998 0.92187424\n",
      " 0.14092422 0.07404465 0.88721274 0.10789143]\n",
      "[5 1 5 3 3 5 7 0 8 6]\n",
      "[0 1 2 3 4 5 6 7 8 9]\n"
     ]
    }
   ],
   "source": [
    "diag_ii = np.diag(ii)\n",
    "argmax_ii = np.argmax(ii, axis=0) \n",
    "max_ii = np.max(ii, axis=0)\n",
    "\n",
    "print(max_ii)\n",
    "print(diag_ii)\n",
    "\n",
    "print(argmax_ii) # 実際\n",
    "print(np.arange(ot_shape)) # 正解"
   ]
  },
  {
   "cell_type": "code",
   "execution_count": 4,
   "metadata": {},
   "outputs": [
    {
     "name": "stdout",
     "output_type": "stream",
     "text": [
      "20.0\n",
      "40.0\n"
     ]
    }
   ],
   "source": [
    "# 武田さんのコード\n",
    "def original(matrix, k, order=\"maximum\", category_mat=None):\n",
    "    # Get the diagonal elements\n",
    "    if category_mat is None:\n",
    "        diagonal = np.diag(matrix)\n",
    "    else:\n",
    "        category_mat = category_mat.values\n",
    "        \n",
    "        diagonal = []\n",
    "        for i in range(matrix.shape[0]):\n",
    "            category = category_mat[i]\n",
    "\n",
    "            matching_rows = np.where(np.all(category_mat == category, axis=1))[0]\n",
    "            matching_elements = matrix[i, matching_rows] # get the columns of which category are the same as i-th row\n",
    "\n",
    "            diagonal.append(np.max(matching_elements))\n",
    "\n",
    "    # Get the top k values for each row\n",
    "    if order == \"maximum\":\n",
    "        topk_values = np.partition(matrix, -k)[:, -k:]\n",
    "    elif order == \"minimum\":\n",
    "        topk_values = np.partition(matrix, k - 1)[:, :k]\n",
    "    else:\n",
    "        raise ValueError(\"Invalid order parameter. Must be 'maximum' or 'minimum'.\")\n",
    "\n",
    "    # Count the number of rows where the diagonal is in the top k values\n",
    "    count = np.sum(np.isin(diagonal, topk_values))\n",
    "\n",
    "    # Calculate the accuracy as the proportion of counts to the total number of rows\n",
    "    accuracy = count / matrix.shape[0]\n",
    "    accuracy *= 100\n",
    "\n",
    "    return accuracy\n",
    "    \n",
    "# 修正後 \n",
    "def revised(matrix, k, order=\"maximum\", category_mat=None):    \n",
    "    # Get the diagonal elements\n",
    "    if category_mat is None:\n",
    "        diagonal = np.diag(matrix)\n",
    "    else:\n",
    "        category_mat = category_mat.values\n",
    "        \n",
    "        diagonal = []\n",
    "        for i in range(matrix.shape[0]):\n",
    "            category = category_mat[i]\n",
    "\n",
    "            matching_rows = np.where(np.all(category_mat == category, axis=1))[0]\n",
    "            matching_elements = matrix[i, matching_rows]\n",
    "\n",
    "            diagonal.append(np.min(matching_elements))\n",
    "\n",
    "    # Get the top k values for each row\n",
    "    if order == \"maximum\":\n",
    "        idx = np.argpartition(matrix, -k, axis=0)[-k:, :]\n",
    "        topk_values = np.take_along_axis(matrix, idx, axis=0)\n",
    "    elif order == \"minimum\":\n",
    "        idx = np.argpartition(matrix, k, axis=0)[:k, :]\n",
    "        topk_values = np.take_along_axis(matrix, idx, axis=0)\n",
    "        pass\n",
    "    else:\n",
    "        raise ValueError(\"Invalid order parameter. Must be 'maximum' or 'minimum'.\")\n",
    "\n",
    "    # Count the number of rows where the diagonal is in the top k values\n",
    "    count = np.sum(np.isin(diagonal, topk_values))\n",
    "    \n",
    "    # Calculate the accuracy as the proportion of counts to the total number of rows\n",
    "    accuracy = count / matrix.shape[0]\n",
    "    accuracy *= 100\n",
    "\n",
    "    return accuracy\n",
    "\n",
    "print(original(ii, k=1))\n",
    "print(revised(ii, k=1))"
   ]
  },
  {
   "cell_type": "code",
   "execution_count": 5,
   "metadata": {},
   "outputs": [
    {
     "name": "stdout",
     "output_type": "stream",
     "text": [
      "[0.02058449 0.13949386 0.00552212 0.06355835 0.15601864 0.15599452\n",
      " 0.05808361 0.07404465 0.02541913 0.04645041]\n",
      "[0.37454012 0.96990985 0.29214465 0.94888554 0.25877998 0.92187424\n",
      " 0.14092422 0.07404465 0.88721274 0.10789143]\n",
      "[1 2 7 8 0 0 0 7 9 2]\n",
      "[0 1 2 3 4 5 6 7 8 9]\n",
      "0.0\n",
      "10.0\n"
     ]
    }
   ],
   "source": [
    "# diag = minの場合\n",
    "# 武田さんに確認中・・・\n",
    "diag_ii = np.diag(ii)\n",
    "argmin_ii = np.argmin(ii, axis=0) \n",
    "min_ii = np.min(ii, axis=0)\n",
    "\n",
    "print(min_ii)\n",
    "print(diag_ii)\n",
    "\n",
    "print(argmin_ii) # 実際\n",
    "print(np.arange(ot_shape)) # 正解\n",
    "\n",
    "print(original(ii, k=1, order='minimum'))\n",
    "print(revised(ii, k=1, order='minimum'))"
   ]
  }
 ],
 "metadata": {
  "language_info": {
   "codemirror_mode": {
    "name": "ipython",
    "version": 3
   },
   "file_extension": ".py",
   "mimetype": "text/x-python",
   "name": "python",
   "nbconvert_exporter": "python",
   "pygments_lexer": "ipython3",
   "version": 3
  },
  "orig_nbformat": 4
 },
 "nbformat": 4,
 "nbformat_minor": 2
}
