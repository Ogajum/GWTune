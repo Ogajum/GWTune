{
 "cells": [
  {
   "cell_type": "code",
   "execution_count": 1,
   "metadata": {},
   "outputs": [
    {
     "name": "stderr",
     "output_type": "stream",
     "text": [
      "2023-03-09 17:04:12.529008: E tensorflow/stream_executor/cuda/cuda_blas.cc:2981] Unable to register cuBLAS factory: Attempting to register factory for plugin cuBLAS when one has already been registered\n",
      "2023-03-09 17:04:12.992324: W tensorflow/stream_executor/platform/default/dso_loader.cc:64] Could not load dynamic library 'libnvinfer.so.7'; dlerror: libnvinfer.so.7: cannot open shared object file: No such file or directory; LD_LIBRARY_PATH: /usr/local/cuda/lib64\n",
      "2023-03-09 17:04:12.992378: W tensorflow/stream_executor/platform/default/dso_loader.cc:64] Could not load dynamic library 'libnvinfer_plugin.so.7'; dlerror: libnvinfer_plugin.so.7: cannot open shared object file: No such file or directory; LD_LIBRARY_PATH: /usr/local/cuda/lib64\n",
      "2023-03-09 17:04:12.992384: W tensorflow/compiler/tf2tensorrt/utils/py_utils.cc:38] TF-TRT Warning: Cannot dlopen some TensorRT libraries. If you would like to use Nvidia GPU with TensorRT, please make sure the missing libraries mentioned above are installed properly.\n"
     ]
    },
    {
     "data": {
      "text/plain": [
       "'/home/masaru-sasaki/work_space/GW_methods/scripts'"
      ]
     },
     "execution_count": 1,
     "metadata": {},
     "output_type": "execute_result"
    }
   ],
   "source": [
    "import time\n",
    "import numpy as np\n",
    "import pandas as pd\n",
    "import torch\n",
    "import ot\n",
    "import matplotlib.pyplot as plt\n",
    "import os, sys\n",
    "\n",
    "sys.path.append('../')\n",
    "os.getcwd()"
   ]
  },
  {
   "cell_type": "code",
   "execution_count": 2,
   "metadata": {},
   "outputs": [
    {
     "name": "stdout",
     "output_type": "stream",
     "text": [
      "Success to import src!\n"
     ]
    }
   ],
   "source": [
    "from src.gw_alignment import GW_Alignment\n",
    "from src.utils import gw_optimizer"
   ]
  },
  {
   "cell_type": "code",
   "execution_count": 3,
   "metadata": {},
   "outputs": [],
   "source": [
    "class Test():\n",
    "    def __init__(self, path_model1, path_model2) -> None:\n",
    "        self.path_model1 = path_model1\n",
    "        self.path_model2 = path_model2\n",
    "\n",
    "        self.model1, self.model2, self.p, self.q = self.load_sample_data()\n",
    "\n",
    "    def load_sample_data(self):\n",
    "        \"\"\"\n",
    "        ただ、sample dataをloadするだけの関数。\n",
    "\n",
    "        Returns:\n",
    "            _type_: _description_\n",
    "        \"\"\"\n",
    "        model1 = torch.load(self.path_model1)\n",
    "        model2 = torch.load(self.path_model2)\n",
    "        p = ot.unif(len(model1))\n",
    "        q = ot.unif(len(model2))\n",
    "        return model1, model2, p, q\n",
    "\n",
    "    def optimizer_test(self, device, to_types):\n",
    "        test_gw = GW_Alignment(self.model1, self.model2, self.p, self.q, device=device, to_types=to_types, speed_test=True)\n",
    "        \n",
    "        opt = gw_optimizer.Optimizer(test_gw.save_path)\n",
    "        \n",
    "        study = opt.optimizer(test_gw, method = 'optuna', init_plans_list = ['uniform'], sampler_name = 'random', filename = 'test', n_jobs = 10, num_trial = 50)\n",
    "        \n",
    "        return study\n"
   ]
  },
  {
   "cell_type": "code",
   "execution_count": 4,
   "metadata": {},
   "outputs": [
    {
     "name": "stderr",
     "output_type": "stream",
     "text": [
      "\u001b[32m[I 2023-03-09 17:04:15,162]\u001b[0m Using an existing study with name 'test' instead of creating a new one.\u001b[0m\n",
      "/home/masaru-sasaki/.pyenv/versions/anaconda3-2022.10/lib/python3.9/site-packages/ot/bregman.py:492: UserWarning: Warning: numerical errors at iteration 0\n",
      "  warnings.warn('Warning: numerical errors at iteration %d' % ii)\n",
      "\u001b[33m[W 2023-03-09 17:04:16,425]\u001b[0m Trial 15 failed with parameters: {'eps': 0.00013477532633412442, 'initialize': 'uniform'} because of the following error: The value nan is not acceptable..\u001b[0m\n",
      "\u001b[33m[W 2023-03-09 17:04:16,426]\u001b[0m Trial 15 failed with value (nan, nan).\u001b[0m\n"
     ]
    }
   ],
   "source": [
    "# %%\n",
    "if __name__ == '__main__':\n",
    "    path1 = '../data/model1.pt'\n",
    "    path2 = '../data/model2.pt'\n",
    "\n",
    "    tgw = Test(path1, path2)\n",
    "    device = 'cuda'\n",
    "    to_types = 'torch'\n",
    "    tgw.optimizer_test(device, to_types)"
   ]
  }
 ],
 "metadata": {
  "kernelspec": {
   "display_name": "base",
   "language": "python",
   "name": "python3"
  },
  "language_info": {
   "codemirror_mode": {
    "name": "ipython",
    "version": 3
   },
   "file_extension": ".py",
   "mimetype": "text/x-python",
   "name": "python",
   "nbconvert_exporter": "python",
   "pygments_lexer": "ipython3",
   "version": "3.9.13"
  },
  "orig_nbformat": 4
 },
 "nbformat": 4,
 "nbformat_minor": 2
}
