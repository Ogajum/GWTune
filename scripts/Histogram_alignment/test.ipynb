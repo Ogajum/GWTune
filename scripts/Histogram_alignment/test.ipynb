{
 "cells": [
  {
   "cell_type": "code",
   "execution_count": 1,
   "metadata": {},
   "outputs": [
    {
     "name": "stderr",
     "output_type": "stream",
     "text": [
      "2023-03-08 17:26:38.093101: E tensorflow/stream_executor/cuda/cuda_blas.cc:2981] Unable to register cuBLAS factory: Attempting to register factory for plugin cuBLAS when one has already been registered\n",
      "2023-03-08 17:26:38.588466: W tensorflow/stream_executor/platform/default/dso_loader.cc:64] Could not load dynamic library 'libnvinfer.so.7'; dlerror: libnvinfer.so.7: cannot open shared object file: No such file or directory; LD_LIBRARY_PATH: /usr/local/cuda/lib64\n",
      "2023-03-08 17:26:38.588524: W tensorflow/stream_executor/platform/default/dso_loader.cc:64] Could not load dynamic library 'libnvinfer_plugin.so.7'; dlerror: libnvinfer_plugin.so.7: cannot open shared object file: No such file or directory; LD_LIBRARY_PATH: /usr/local/cuda/lib64\n",
      "2023-03-08 17:26:38.588530: W tensorflow/compiler/tf2tensorrt/utils/py_utils.cc:38] TF-TRT Warning: Cannot dlopen some TensorRT libraries. If you would like to use Nvidia GPU with TensorRT, please make sure the missing libraries mentioned above are installed properly.\n"
     ]
    },
    {
     "data": {
      "text/plain": [
       "'/home/masaru-sasaki/work_space/GW_methods/scripts/Histogram_alignment'"
      ]
     },
     "execution_count": 1,
     "metadata": {},
     "output_type": "execute_result"
    }
   ],
   "source": [
    "import time\n",
    "import numpy as np\n",
    "import pandas as pd\n",
    "import torch\n",
    "import ot\n",
    "import matplotlib.pyplot as plt\n",
    "import os\n",
    "\n",
    "os.getcwd()"
   ]
  },
  {
   "cell_type": "code",
   "execution_count": 2,
   "metadata": {},
   "outputs": [
    {
     "ename": "ModuleNotFoundError",
     "evalue": "No module named 'src'",
     "output_type": "error",
     "traceback": [
      "\u001b[0;31m---------------------------------------------------------------------------\u001b[0m",
      "\u001b[0;31mModuleNotFoundError\u001b[0m                       Traceback (most recent call last)",
      "\u001b[0;32m/tmp/ipykernel_2614577/1681206059.py\u001b[0m in \u001b[0;36m<module>\u001b[0;34m\u001b[0m\n\u001b[0;32m----> 1\u001b[0;31m \u001b[0;32mfrom\u001b[0m \u001b[0msrc\u001b[0m\u001b[0;34m.\u001b[0m\u001b[0mgw_alignment\u001b[0m \u001b[0;32mimport\u001b[0m \u001b[0mGW_Alignment\u001b[0m\u001b[0;34m\u001b[0m\u001b[0;34m\u001b[0m\u001b[0m\n\u001b[0m\u001b[1;32m      2\u001b[0m \u001b[0;32mfrom\u001b[0m \u001b[0msrc\u001b[0m\u001b[0;34m.\u001b[0m\u001b[0mutils\u001b[0m \u001b[0;32mimport\u001b[0m \u001b[0mgw_optimizer\u001b[0m\u001b[0;34m\u001b[0m\u001b[0;34m\u001b[0m\u001b[0m\n",
      "\u001b[0;31mModuleNotFoundError\u001b[0m: No module named 'src'"
     ]
    }
   ],
   "source": [
    "from src.gw_alignment import GW_Alignment\n",
    "from src.utils import gw_optimizer"
   ]
  },
  {
   "cell_type": "code",
   "execution_count": null,
   "metadata": {},
   "outputs": [],
   "source": [
    "class Test():\n",
    "    def __init__(self, path_model1, path_model2) -> None:\n",
    "        self.path_model1 = path_model1\n",
    "        self.path_model2 = path_model2\n",
    "\n",
    "        self.model1, self.model2, self.p, self.q = self.load_sample_data()\n",
    "\n",
    "    def load_sample_data(self):\n",
    "        \"\"\"\n",
    "        ただ、sample dataをloadするだけの関数。\n",
    "\n",
    "        Returns:\n",
    "            _type_: _description_\n",
    "        \"\"\"\n",
    "        model1 = torch.load(self.path_model1)\n",
    "        model2 = torch.load(self.path_model2)\n",
    "        p = ot.unif(len(model1))\n",
    "        q = ot.unif(len(model2))\n",
    "        return model1, model2, p, q\n",
    "\n",
    "    def optimizer_test(self, device, to_types):\n",
    "        test_gw = GW_Alignment(self.model1, self.model2, self.p, self.q, device=device, to_types=to_types, speed_test=True)\n",
    "        \n",
    "        opt = gw_optimizer.Optimizer(test_gw.save_path)\n",
    "        \n",
    "        study = opt.optimizer(test_gw, method = 'optuna', init_plan = 'diag', sampler_name = 'random', filename = 'test', n_jobs = 10, num_trial = 50)\n",
    "        \n",
    "        return study\n"
   ]
  },
  {
   "cell_type": "code",
   "execution_count": null,
   "metadata": {},
   "outputs": [],
   "source": [
    "# %%\n",
    "if __name__ == '__main__':\n",
    "    path1 = '../../data/model1.pt'\n",
    "    path2 = '../../data/model2.pt'\n",
    "\n",
    "    tgw = Test(path1, path2)\n",
    "    device = 'cuda'\n",
    "    to_types = 'torch'\n",
    "    tgw.comparison(device, to_types)"
   ]
  }
 ],
 "metadata": {
  "kernelspec": {
   "display_name": "base",
   "language": "python",
   "name": "python3"
  },
  "language_info": {
   "codemirror_mode": {
    "name": "ipython",
    "version": 3
   },
   "file_extension": ".py",
   "mimetype": "text/x-python",
   "name": "python",
   "nbconvert_exporter": "python",
   "pygments_lexer": "ipython3",
   "version": "3.9.13"
  },
  "orig_nbformat": 4
 },
 "nbformat": 4,
 "nbformat_minor": 2
}
