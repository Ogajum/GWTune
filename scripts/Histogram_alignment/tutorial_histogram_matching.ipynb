{
 "cells": [
  {
   "attachments": {},
   "cell_type": "markdown",
   "metadata": {},
   "source": [
    "## Tutorial For Histogram Matching"
   ]
  },
  {
   "cell_type": "code",
   "execution_count": null,
   "metadata": {},
   "outputs": [],
   "source": [
    "# Standard Library\n",
    "import itertools\n",
    "import os\n",
    "import warnings\n",
    "import functools\n",
    "\n",
    "warnings.simplefilter(\"ignore\")\n",
    "\n",
    "# Third Party Library\n",
    "import numpy as np\n",
    "import scipy as sp\n",
    "import matplotlib.pyplot as plt\n",
    "import seaborn as sns\n",
    "\n",
    "from matplotlib.cm import ScalarMappable, get_cmap\n",
    "import matplotlib.colors as colors\n",
    "# %config InlineBackend.figure_formats = {'png', 'retina'} # for notebook?\n",
    "plt.rcParams[\"font.size\"] = 14\n",
    "\n",
    "import torch\n",
    "import optuna\n",
    "import ot\n",
    "\n",
    "from scipy.special import comb\n",
    "from sklearn.metrics import confusion_matrix, accuracy_score"
   ]
  },
  {
   "cell_type": "code",
   "execution_count": null,
   "metadata": {},
   "outputs": [],
   "source": [
    "def correct_rate_mv(gw):\n",
    "    y_pred = np.argmax(gw, axis=1)\n",
    "    y_true = np.arange(0, len(gw))\n",
    "    cm = confusion_matrix(y_true, y_pred)\n",
    "    acc = accuracy_score(y_true, y_pred)\n",
    "    return acc, cm\n",
    "\n",
    "def sc_plot(x, y, labels):\n",
    "    plt.figure()\n",
    "    plt.plot(x, y, '.')\n",
    "    plt.xlabel(labels[0])\n",
    "    plt.ylabel(labels[1])\n",
    "    plt.show()\n",
    "\n",
    "\n",
    "def im_plot(X, Y, title_list):\n",
    "    fig, axes = plt.subplots(1, 2, figsize=(10, 5))\n",
    "    for ax, dm, t in zip(axes.reshape(-1), [X, Y], title_list):\n",
    "        a = ax.imshow(dm)\n",
    "        ax.set_title(t)\n",
    "        cbar = fig.colorbar(a, ax=ax, shrink=0.7)\n",
    "    plt.show()"
   ]
  },
  {
   "cell_type": "code",
   "execution_count": null,
   "metadata": {},
   "outputs": [],
   "source": [
    "# generate disimilarity matrix data\n",
    "n = 1000  # number of elements\n",
    "sigma = 1\n",
    "\n",
    "np.random.seed(seed=42)\n",
    "x_sim = np.random.uniform(0, 1, size=comb(n, 2, exact=True))\n",
    "np.random.seed(seed=0)\n",
    "y_sim = 2 * x_sim + np.random.uniform(0, sigma, size=comb(n, 2, exact=True))\n",
    "\n",
    "X = sp.spatial.distance.squareform(x_sim)  # disimilarity matrix 1\n",
    "Y = sp.spatial.distance.squareform(y_sim)  # disimilarity matrix 2\n",
    "\n",
    "# %%\n",
    "# RSA correlation\n",
    "x_flat = sp.spatial.distance.squareform(X)\n",
    "y_flat = sp.spatial.distance.squareform(Y)\n",
    "\n",
    "corr, _ = sp.stats.pearsonr(x_flat, y_flat)\n",
    "print(f'pearson r = {corr}')\n",
    "\n",
    "sc_plot(x_flat, y_flat, ['X', 'Y'])\n",
    "im_plot(X, Y, ['X', 'Y'])\n",
    "\n",
    "# histogram alignment\n",
    "# Y_t = histogram_matching(X, Y)\n",
    "# im_plot(X, Y_t, ['X', 'transformed Y'])\n"
   ]
  },
  {
   "attachments": {},
   "cell_type": "markdown",
   "metadata": {},
   "source": []
  }
 ],
 "metadata": {
  "kernelspec": {
   "display_name": "base",
   "language": "python",
   "name": "python3"
  },
  "language_info": {
   "name": "python",
   "version": "3.10.9"
  },
  "orig_nbformat": 4
 },
 "nbformat": 4,
 "nbformat_minor": 2
}
